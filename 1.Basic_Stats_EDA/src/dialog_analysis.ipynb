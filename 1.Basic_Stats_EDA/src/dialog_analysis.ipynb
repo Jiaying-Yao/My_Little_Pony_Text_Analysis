{
 "cells": [
  {
   "cell_type": "code",
   "execution_count": 25,
   "id": "5583d664",
   "metadata": {},
   "outputs": [],
   "source": [
    "import pandas as pd\n",
    "import json"
   ]
  },
  {
   "cell_type": "code",
   "execution_count": 26,
   "id": "60b619e0",
   "metadata": {},
   "outputs": [
    {
     "data": {
      "text/html": [
       "<div>\n",
       "<style scoped>\n",
       "    .dataframe tbody tr th:only-of-type {\n",
       "        vertical-align: middle;\n",
       "    }\n",
       "\n",
       "    .dataframe tbody tr th {\n",
       "        vertical-align: top;\n",
       "    }\n",
       "\n",
       "    .dataframe thead th {\n",
       "        text-align: right;\n",
       "    }\n",
       "</style>\n",
       "<table border=\"1\" class=\"dataframe\">\n",
       "  <thead>\n",
       "    <tr style=\"text-align: right;\">\n",
       "      <th></th>\n",
       "      <th>title</th>\n",
       "      <th>writer</th>\n",
       "      <th>pony</th>\n",
       "      <th>dialog</th>\n",
       "    </tr>\n",
       "  </thead>\n",
       "  <tbody>\n",
       "    <tr>\n",
       "      <th>0</th>\n",
       "      <td>Friendship is Magic, part 1</td>\n",
       "      <td>Lauren Faust</td>\n",
       "      <td>Narrator</td>\n",
       "      <td>Once upon a time, in the magical land of Eques...</td>\n",
       "    </tr>\n",
       "    <tr>\n",
       "      <th>1</th>\n",
       "      <td>Friendship is Magic, part 1</td>\n",
       "      <td>Lauren Faust</td>\n",
       "      <td>Narrator</td>\n",
       "      <td>She vowed that she would shroud the land in et...</td>\n",
       "    </tr>\n",
       "    <tr>\n",
       "      <th>2</th>\n",
       "      <td>Friendship is Magic, part 1</td>\n",
       "      <td>Lauren Faust</td>\n",
       "      <td>Narrator and Twilight Sparkle</td>\n",
       "      <td>...sun and moon...</td>\n",
       "    </tr>\n",
       "    <tr>\n",
       "      <th>3</th>\n",
       "      <td>Friendship is Magic, part 1</td>\n",
       "      <td>Lauren Faust</td>\n",
       "      <td>Twilight Sparkle</td>\n",
       "      <td>...and harmony has been maintained in Equestri...</td>\n",
       "    </tr>\n",
       "    <tr>\n",
       "      <th>4</th>\n",
       "      <td>Friendship is Magic, part 1</td>\n",
       "      <td>Lauren Faust</td>\n",
       "      <td>Twinkleshine</td>\n",
       "      <td>There you are, Twilight! Moon Dancer is having...</td>\n",
       "    </tr>\n",
       "    <tr>\n",
       "      <th>...</th>\n",
       "      <td>...</td>\n",
       "      <td>...</td>\n",
       "      <td>...</td>\n",
       "      <td>...</td>\n",
       "    </tr>\n",
       "    <tr>\n",
       "      <th>36854</th>\n",
       "      <td>My Little Pony Best Gift Ever</td>\n",
       "      <td>Michael Vogel</td>\n",
       "      <td>Others</td>\n",
       "      <td>The true gift of gifting Is totally free And y...</td>\n",
       "    </tr>\n",
       "    <tr>\n",
       "      <th>36855</th>\n",
       "      <td>My Little Pony Best Gift Ever</td>\n",
       "      <td>Michael Vogel</td>\n",
       "      <td>Alice</td>\n",
       "      <td>And so it worked out,</td>\n",
       "    </tr>\n",
       "    <tr>\n",
       "      <th>36856</th>\n",
       "      <td>My Little Pony Best Gift Ever</td>\n",
       "      <td>Michael Vogel</td>\n",
       "      <td>Others</td>\n",
       "      <td>And a lesson was learned, there's no need to o...</td>\n",
       "    </tr>\n",
       "    <tr>\n",
       "      <th>36857</th>\n",
       "      <td>My Little Pony Best Gift Ever</td>\n",
       "      <td>Michael Vogel</td>\n",
       "      <td>Others</td>\n",
       "      <td>Gift-</td>\n",
       "    </tr>\n",
       "    <tr>\n",
       "      <th>36858</th>\n",
       "      <td>My Little Pony Best Gift Ever</td>\n",
       "      <td>Michael Vogel</td>\n",
       "      <td>Others</td>\n",
       "      <td>Friendship is the best gift of all.</td>\n",
       "    </tr>\n",
       "  </tbody>\n",
       "</table>\n",
       "<p>36859 rows × 4 columns</p>\n",
       "</div>"
      ],
      "text/plain": [
       "                               title         writer  \\\n",
       "0        Friendship is Magic, part 1   Lauren Faust   \n",
       "1        Friendship is Magic, part 1   Lauren Faust   \n",
       "2        Friendship is Magic, part 1   Lauren Faust   \n",
       "3        Friendship is Magic, part 1   Lauren Faust   \n",
       "4        Friendship is Magic, part 1   Lauren Faust   \n",
       "...                              ...            ...   \n",
       "36854  My Little Pony Best Gift Ever  Michael Vogel   \n",
       "36855  My Little Pony Best Gift Ever  Michael Vogel   \n",
       "36856  My Little Pony Best Gift Ever  Michael Vogel   \n",
       "36857  My Little Pony Best Gift Ever  Michael Vogel   \n",
       "36858  My Little Pony Best Gift Ever  Michael Vogel   \n",
       "\n",
       "                                pony  \\\n",
       "0                           Narrator   \n",
       "1                           Narrator   \n",
       "2      Narrator and Twilight Sparkle   \n",
       "3                   Twilight Sparkle   \n",
       "4                       Twinkleshine   \n",
       "...                              ...   \n",
       "36854                         Others   \n",
       "36855                          Alice   \n",
       "36856                         Others   \n",
       "36857                         Others   \n",
       "36858                         Others   \n",
       "\n",
       "                                                  dialog  \n",
       "0      Once upon a time, in the magical land of Eques...  \n",
       "1      She vowed that she would shroud the land in et...  \n",
       "2                                     ...sun and moon...  \n",
       "3      ...and harmony has been maintained in Equestri...  \n",
       "4      There you are, Twilight! Moon Dancer is having...  \n",
       "...                                                  ...  \n",
       "36854  The true gift of gifting Is totally free And y...  \n",
       "36855                              And so it worked out,  \n",
       "36856  And a lesson was learned, there's no need to o...  \n",
       "36857                                              Gift-  \n",
       "36858                Friendship is the best gift of all.  \n",
       "\n",
       "[36859 rows x 4 columns]"
      ]
     },
     "execution_count": 26,
     "metadata": {},
     "output_type": "execute_result"
    }
   ],
   "source": [
    "df = pd.read_csv('../data/pony_data/clean_dialog.csv')\n",
    "df"
   ]
  },
  {
   "cell_type": "code",
   "execution_count": 27,
   "id": "12ac5e65",
   "metadata": {},
   "outputs": [
    {
     "name": "stdout",
     "output_type": "stream",
     "text": [
      "4745 2748 2660 2833 3072 2109\n"
     ]
    }
   ],
   "source": [
    "ts_count,_ = df[df['pony'].str.lower()=='twilight sparkle'].shape\n",
    "aj_count,_ = df[df['pony'].str.lower()=='applejack'].shape\n",
    "rrt_count,_ = df[df['pony'].str.lower()=='rarity'].shape\n",
    "pp_count,_ = df[df['pony'].str.lower()=='pinkie pie'].shape\n",
    "rd_count,_ = df[df['pony'].str.lower()=='rainbow dash'].shape\n",
    "fs_count,_ = df[df['pony'].str.lower()=='fluttershy'].shape\n",
    "print(ts_count, aj_count, rrt_count, pp_count, rd_count, fs_count)"
   ]
  },
  {
   "cell_type": "code",
   "execution_count": 50,
   "id": "c2a5569c",
   "metadata": {},
   "outputs": [],
   "source": [
    "total,_ = df.shape\n",
    "ts_verbo = round (ts_count/total, 2)\n",
    "aj_verbo = round(aj_count/total, 2)\n",
    "rrt_verbo = round(rrt_count/total, 2)\n",
    "pp_verbo = round(pp_count/total, 2) \n",
    "rd_verbo = round(rd_count/total, 2)\n",
    "fs_verbo = round(fs_count/total, 2)"
   ]
  },
  {
   "cell_type": "code",
   "execution_count": 51,
   "id": "e52691f9",
   "metadata": {},
   "outputs": [
    {
     "name": "stdout",
     "output_type": "stream",
     "text": [
      "{'count': {'twilight sparkle': 4745, 'applejack': 2748, 'rarity': 2660, 'pinkie pie': 2833, 'rainbow dash': 3072, 'fluttershy': 2109}, 'verbosity': {'twilight sparkle': 0.13, 'applejack': 0.07, 'rarity': 0.07, 'pinkie pie': 0.08, 'rainbow dash': 0.08, 'fluttershy': 0.06}}\n"
     ]
    }
   ],
   "source": [
    "#js={}\n",
    "#js[\"count\"]={\"twilight sparkle\" : ts_count, \"applejack\" : aj_count, \"rarity\" : rrt_count, \"pinkie pie\" : pp_count, \"rainbow dash\" : rd_count, \"fluttershy\" : fs_count}\n",
    "#js[\"verbosity\"]={\"twilight sparkle\" : ts_verbo, \"applejack\" : aj_verbo, \"rarity\" : rrt_verbo, \"pinkie pie\" : pp_verbo \"rainbow dash\" : rd_verbo, \"fluttershy\" : fs_verbo}\n",
    "js = {\"count\":\n",
    "     {\n",
    "         \"twilight sparkle\" : ts_count, \"applejack\" : aj_count, \"rarity\" : rrt_count, \"pinkie pie\" : pp_count, \"rainbow dash\" : rd_count, \"fluttershy\" : fs_count\n",
    "     },\n",
    "     \"verbosity\":\n",
    "      {\n",
    "          \"twilight sparkle\" : ts_verbo, \"applejack\" : aj_verbo, \"rarity\" : rrt_verbo, \"pinkie pie\" : pp_verbo, \"rainbow dash\" : rd_verbo, \"fluttershy\" : fs_verbo\n",
    "      }\n",
    "     }\n",
    "print(js)\n",
    "with open('../output.json', 'w') as file:\n",
    "    json.dump(js, file, indent=4)\n"
   ]
  },
  {
   "cell_type": "code",
   "execution_count": null,
   "id": "5a162050",
   "metadata": {},
   "outputs": [],
   "source": []
  },
  {
   "cell_type": "code",
   "execution_count": null,
   "id": "a1f446d4",
   "metadata": {},
   "outputs": [],
   "source": []
  }
 ],
 "metadata": {
  "kernelspec": {
   "display_name": "Python 3 (ipykernel)",
   "language": "python",
   "name": "python3"
  },
  "language_info": {
   "codemirror_mode": {
    "name": "ipython",
    "version": 3
   },
   "file_extension": ".py",
   "mimetype": "text/x-python",
   "name": "python",
   "nbconvert_exporter": "python",
   "pygments_lexer": "ipython3",
   "version": "3.8.11"
  }
 },
 "nbformat": 4,
 "nbformat_minor": 5
}
